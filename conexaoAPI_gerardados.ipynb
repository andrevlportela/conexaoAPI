{
 "cells": [
  {
   "attachments": {},
   "cell_type": "markdown",
   "id": "afb61296",
   "metadata": {},
   "source": [
    "-CONEXÃO VIA API PARA GERAR, INSERIR E MODIFICAR DADOS EM UM SISTEMA SaaS ESPECÍFICO. \n",
    "-NESTA PRIMEIRA CAIXA DE CÓDIGO VAMOS REALIZAR O LOGIN NA API PUBLICA DISPONIBILIZADA PELO DESENVOLVEDOR DO SISTEMA. URL E CHAVE FORAM REMOVIDAS E SUBSTITUIDAS POR \"[URL]\" E \"[CHAVE]\".\n",
    "-AO FINAL DESTE CÓDIGO ELE IRÁ GERAR UM TOKEN QUE SERÁ UTILIZADO NOS OUTROS PASSOS PARA VALIDAÇÃO.\n",
    "\n",
    "\n",
    "-API CONNECTION TO GENERATE, ENTER AND MODIFY DATA IN A SPECIFIC SaaS SYSTEM.\n",
    "-IN THIS FIRST CODE BOX WE ARE GOING TO LOGIN TO THE PUBLIC API PROVIDED BY THE SYSTEM DEVELOPER. URL AND KEY HAVE BEEN REMOVED AND REPLACED WITH \"[URL]\" AND \"[CHAVE]\".\n",
    "-AT THE END OF THIS CODE IT WILL GENERATE A TOKEN THAT WILL BE USED IN THE OTHER STEPS FOR VALIDATION."
   ]
  },
  {
   "cell_type": "code",
   "execution_count": null,
   "id": "779bcd03",
   "metadata": {},
   "outputs": [],
   "source": [
    "import requests \n",
    "import json\n",
    "\n",
    "url = \"[URL]/PublicLoginAPI/DoLogin\"\n",
    "\n",
    "payload = json.dumps({\n",
    "  \"token\": \"[CHAVE]\"\n",
    "})\n",
    "headers = {\n",
    "  'Content-Type': 'application/json'\n",
    "}\n",
    "\n",
    "response = requests.request(\"POST\", url, headers=headers, data=payload)\n",
    "\n",
    "print(response.text)"
   ]
  },
  {
   "attachments": {},
   "cell_type": "markdown",
   "id": "08157d15",
   "metadata": {},
   "source": [
    "-NESTA ETAPA VAMOS REALIZAR O RECONHECIMENTO DA CHAVE E DO TOKEN PARA PODERMOS EXTRAIR DADOS DO SISTEMA, DEVE SER UTILIZADO O TOKEN QUE FOI GERADO NA ETAPA ANTERIOR. \n",
    "-INFORMAR ATRAVÉS DE UM JSON OS CRITÉRIOS DESEJADOS PARA EXTRAÇÃO COMO DATA INICIAL E FINAL... \n",
    "-QUANDO EXECUTAR O CÓDIGO O SISTEMA VAI GERAR UM RELATÓRIO EM BACKGROUND E INFORMANDO AO FINAL O ID DESSE ARQUIVO JSON. \n",
    "\n",
    "-IN THIS STEP WE WILL RECOGNIZE THE KEY AND THE TOKEN IN ORDER TO EXTRACT DATA FROM THE SYSTEM; THE TOKEN GENERATED IN THE PREVIOUS STEP SHOULD BE USED. \n",
    "-INFORM THROUGH A JSON THE DESIRED CRITERIA FOR EXTRACTION AS THE START AND END DATE ... \n",
    "-WHEN RUNNING THE CODE THE SYSTEM WILL GENERATE A REPORT IN THE BACKGROUND AND INFORMING THE ID OF THIS JSON FILE AT THE END. "
   ]
  },
  {
   "cell_type": "code",
   "execution_count": null,
   "id": "97d0ba55",
   "metadata": {},
   "outputs": [],
   "source": [
    "# Dados de autenticação gera codigo\n",
    "url_login = '[URL]/PublicLoginAPI/DoLogin'\n",
    "headers_login = {'Content-Type': 'application/json'}\n",
    "data_login = {\n",
    "    'token': '[CHAVE]'\n",
    "}\n",
    "\n",
    "# Faz uma requisição POST para o login\n",
    "response_login = requests.post(url_login, headers=headers_login, json=data_login)\n",
    "\n",
    "if response_login.status_code == 200:\n",
    "    # Sucesso na autenticação\n",
    "    token = response_login.json().get('token')\n",
    "\n",
    "    # Dados para a consulta do relatório\n",
    "    url_relatorio = '[URL]/PublicRelatorioAPI/GerarRelatorio'\n",
    "    headers_relatorio = {\n",
    "        'Content-Type': 'application/json',\n",
    "        'Authorization': f'Bearer [TOKEN]'\n",
    "    }\n",
    "    data_relatorio = {\n",
    "        \"Data\": \"2023-05-01\",\n",
    "        \"DataFim\": \"2023-05-26\",\n",
    "        \"ModeloContabil\": \"provisao\",\n",
    "        \"ModeloRelatorio\": \"gerencial\",\n",
    "        \"ExtensaoDeArquivo\": \"json\",\n",
    "        \"EnviarNotificacaoPorWebhook\": False,\n",
    "        \"URLNotificaticao\": \"\",\n",
    "        \"Contas\": \"\",\n",
    "        \"CNPJEmpresas\": []\n",
    "    }\n",
    "\n",
    "    # Faz uma requisição POST para a consulta do relatório\n",
    "    response_relatorio = requests.post(url_relatorio, headers=headers_relatorio, json=data_relatorio)\n",
    "\n",
    "    if response_relatorio.status_code == 200:\n",
    "        # Sucesso na solicitação do relatório\n",
    "        resultado = response_relatorio.json().get('Result')\n",
    "        print('Resultado:', resultado)\n",
    "    else:\n",
    "        # A solicitação do relatório falhou\n",
    "        print('Falha na solicitação do relatório. Código de status:', response_relatorio.status_code)\n",
    "else:\n",
    "    # A autenticação falhou\n",
    "    print('Falha na autenticação. Código de status:', response_login.status_code)"
   ]
  },
  {
   "attachments": {},
   "cell_type": "markdown",
   "id": "1e468e5a",
   "metadata": {},
   "source": [
    "-ESTA É A ÚLTIMA ETAPA PARA, OU SEJA, VAMOS UTILIZAR O ID DO ARQUIVO GERADO NA ETAPA ANTERIOR PARA PEGAR ESTE ARQUIVO QUE FOI GERADO EM BACKGROUND E SALVAR NA MAQUINA LOCAL QUE ESTA SENDO UTILIZADA.\n",
    "-LEMBRANDO QUE EM TODAS AS ETAPAS É NECESSARIO VALIDAR COM O TOKEN QUE FOI GERADO NA PRIMERIA ETAPA. \n",
    "\n",
    "-THIS IS THE LAST STEP, THAT IS, WE'LL USE THE ID OF THE FILE GENERATED IN THE PREVIOUS STEP TO GET THIS FILE THAT WAS GENERATED IN THE BACKGROUND AND SAVE IT IN THE LOCAL MACHINE THAT IS BEING USED.\n",
    "-REMEMBERING THAT IN ALL STEPS IT IS NECESSARY TO VALIDATE WITH THE TOKEN THAT WAS GENERATED IN THE FIRST STEP. "
   ]
  },
  {
   "cell_type": "code",
   "execution_count": null,
   "id": "740ddf97",
   "metadata": {},
   "outputs": [],
   "source": [
    "import requests\n",
    "import json    \n",
    "import os \n",
    "\n",
    "url = '[URL]/Download?id=[ID]'\n",
    "\n",
    "payload = \"\"\n",
    "headers = {\n",
    "    'Content-Type': 'application/json',\n",
    "    'Authorization': 'Bearer [TOKEN]'\n",
    "}\n",
    "\n",
    "response = requests.get(url, headers=headers, data=payload)\n",
    "\n",
    "# Verifica se a requisição foi bem sucedida\n",
    "if response.status_code == 200:\n",
    "    # Obtém o caminho completo para a pasta de downloads\n",
    "    download_path = os.path.expanduser(\"~/Downloads\")\n",
    "\n",
    "    # Define o nome do arquivo\n",
    "    file_name = \"consiliacao.json\"\n",
    "\n",
    "    # Define o caminho completo para o arquivo\n",
    "    file_path = os.path.join(download_path, file_name)\n",
    "\n",
    "    # Salva a resposta JSON no arquivo\n",
    "    with open(file_path, 'w') as file:\n",
    "        json.dump(response.json(), file)\n",
    "\n",
    "    print(f\"O arquivo foi salvo em: {file_path}\")\n",
    "else:\n",
    "    print(\"Falha ao fazer a requisição.\")\n"
   ]
  }
 ],
 "metadata": {
  "kernelspec": {
   "display_name": "Python 3 (ipykernel)",
   "language": "python",
   "name": "python3"
  },
  "language_info": {
   "codemirror_mode": {
    "name": "ipython",
    "version": 3
   },
   "file_extension": ".py",
   "mimetype": "text/x-python",
   "name": "python",
   "nbconvert_exporter": "python",
   "pygments_lexer": "ipython3",
   "version": "3.10.9"
  }
 },
 "nbformat": 4,
 "nbformat_minor": 5
}
